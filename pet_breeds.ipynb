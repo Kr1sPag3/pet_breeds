{
 "cells": [
  {
   "cell_type": "code",
   "execution_count": 1,
   "id": "5ec37f18",
   "metadata": {
    "gradient": {
     "editing": false,
     "execution_count": 2,
     "id": "5ec37f18",
     "kernelId": "7b464ce6-f544-4c03-8d02-2f858937e93f"
    }
   },
   "outputs": [],
   "source": [
    "from fastai.vision.all import *\n",
    "from fastai.vision.widgets import *"
   ]
  },
  {
   "cell_type": "code",
   "execution_count": 2,
   "id": "b87a6abe",
   "metadata": {
    "gradient": {
     "editing": false,
     "execution_count": 8,
     "id": "b87a6abe",
     "kernelId": "7b464ce6-f544-4c03-8d02-2f858937e93f"
    }
   },
   "outputs": [],
   "source": [
    "# Load model\n",
    "path = Path()\n",
    "Path()\n",
    "model = load_learner(path/'pet_breed_resnet50.pkl')\n"
   ]
  },
  {
   "cell_type": "code",
   "execution_count": 3,
   "id": "acc6e7cd",
   "metadata": {
    "gradient": {
     "editing": false,
     "execution_count": 9,
     "id": "acc6e7cd",
     "kernelId": "7b464ce6-f544-4c03-8d02-2f858937e93f"
    }
   },
   "outputs": [
    {
     "data": {
      "application/vnd.jupyter.widget-view+json": {
       "model_id": "ca64554dca744ec19e8426d5bcedd74d",
       "version_major": 2,
       "version_minor": 0
      },
      "text/plain": [
       "VBox(children=(Label(value='Select your pet image!'), FileUpload(value={}, description='Upload'), Output(), La…"
      ]
     },
     "metadata": {},
     "output_type": "display_data"
    }
   ],
   "source": [
    "# Create file uploader\n",
    "btn_upload = widgets.FileUpload()\n",
    "out_pl = widgets.Output()\n",
    "lbl_pred = widgets.Label()\n",
    "\n",
    "def on_data_change(change):\n",
    "    img = PILImage.create(btn_upload.data[-1])\n",
    "    out_pl.clear_output()\n",
    "    with out_pl: display(img.to_thumb(128,128))\n",
    "    pred,pred_idx,probs = model.predict(img)\n",
    "    lbl_pred.value=f'Prediction: {pred}; Prabability: {probs[pred_idx]:.04f}'\n",
    "\n",
    "btn_upload.observe(on_data_change, names=['data'])\n",
    "\n",
    "display(VBox([widgets.Label('Select your pet image!'), btn_upload, out_pl, lbl_pred]))"
   ]
  },
  {
   "cell_type": "code",
   "execution_count": null,
   "id": "49abb9fe",
   "metadata": {
    "gradient": {
     "editing": false,
     "id": "49abb9fe",
     "kernelId": "7b464ce6-f544-4c03-8d02-2f858937e93f"
    }
   },
   "outputs": [],
   "source": []
  }
 ],
 "metadata": {
  "kernelspec": {
   "display_name": "Python 3 (ipykernel)",
   "language": "python",
   "name": "python3"
  },
  "language_info": {
   "codemirror_mode": {
    "name": "ipython",
    "version": 3
   },
   "file_extension": ".py",
   "mimetype": "text/x-python",
   "name": "python",
   "nbconvert_exporter": "python",
   "pygments_lexer": "ipython3",
   "version": "3.7.11"
  }
 },
 "nbformat": 4,
 "nbformat_minor": 5
}
